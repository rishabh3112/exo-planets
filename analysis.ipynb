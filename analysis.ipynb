{
 "cells": [
  {
   "cell_type": "markdown",
   "metadata": {},
   "source": [
    "# Exo planet Anaylsis\n",
    "----\n",
    "Anaylsis performed for Hack benchers 2 Project"
   ]
  },
  {
   "cell_type": "code",
   "execution_count": 2,
   "metadata": {},
   "outputs": [],
   "source": [
    "# Importing Required libraries\n",
    "import numpy as np\n",
    "import pandas as pd\n",
    "import matplotlib.pyplot as plt\n",
    "%matplotlib inline"
   ]
  },
  {
   "cell_type": "code",
   "execution_count": 3,
   "metadata": {},
   "outputs": [
    {
     "data": {
      "text/html": [
       "<div>\n",
       "<style scoped>\n",
       "    .dataframe tbody tr th:only-of-type {\n",
       "        vertical-align: middle;\n",
       "    }\n",
       "\n",
       "    .dataframe tbody tr th {\n",
       "        vertical-align: top;\n",
       "    }\n",
       "\n",
       "    .dataframe thead th {\n",
       "        text-align: right;\n",
       "    }\n",
       "</style>\n",
       "<table border=\"1\" class=\"dataframe\">\n",
       "  <thead>\n",
       "    <tr style=\"text-align: right;\">\n",
       "      <th></th>\n",
       "      <th>PlanetIdentifier</th>\n",
       "      <th>TypeFlag</th>\n",
       "      <th>PlanetaryMassJpt</th>\n",
       "      <th>RadiusJpt</th>\n",
       "      <th>PeriodDays</th>\n",
       "      <th>SemiMajorAxisAU</th>\n",
       "      <th>Eccentricity</th>\n",
       "      <th>PeriastronDeg</th>\n",
       "      <th>LongitudeDeg</th>\n",
       "      <th>AscendingNodeDeg</th>\n",
       "      <th>...</th>\n",
       "      <th>LastUpdated</th>\n",
       "      <th>RightAscension</th>\n",
       "      <th>Declination</th>\n",
       "      <th>DistFromSunParsec</th>\n",
       "      <th>HostStarMassSlrMass</th>\n",
       "      <th>HostStarRadiusSlrRad</th>\n",
       "      <th>HostStarMetallicity</th>\n",
       "      <th>HostStarTempK</th>\n",
       "      <th>HostStarAgeGyr</th>\n",
       "      <th>ListsPlanetIsOn</th>\n",
       "    </tr>\n",
       "  </thead>\n",
       "  <tbody>\n",
       "    <tr>\n",
       "      <th>0</th>\n",
       "      <td>HD 143761 b</td>\n",
       "      <td>0</td>\n",
       "      <td>1.0450</td>\n",
       "      <td>NaN</td>\n",
       "      <td>39.845800</td>\n",
       "      <td>0.2196</td>\n",
       "      <td>0.037</td>\n",
       "      <td>270.6</td>\n",
       "      <td>NaN</td>\n",
       "      <td>NaN</td>\n",
       "      <td>...</td>\n",
       "      <td>16/07/11</td>\n",
       "      <td>16 01 03</td>\n",
       "      <td>+33 18 13</td>\n",
       "      <td>17.236</td>\n",
       "      <td>0.889</td>\n",
       "      <td>1.362</td>\n",
       "      <td>-0.31</td>\n",
       "      <td>5627.0</td>\n",
       "      <td>NaN</td>\n",
       "      <td>Confirmed planets</td>\n",
       "    </tr>\n",
       "    <tr>\n",
       "      <th>1</th>\n",
       "      <td>HD 143761 c</td>\n",
       "      <td>0</td>\n",
       "      <td>0.0790</td>\n",
       "      <td>NaN</td>\n",
       "      <td>102.540000</td>\n",
       "      <td>0.4123</td>\n",
       "      <td>0.050</td>\n",
       "      <td>190.0</td>\n",
       "      <td>NaN</td>\n",
       "      <td>NaN</td>\n",
       "      <td>...</td>\n",
       "      <td>16/07/11</td>\n",
       "      <td>16 01 03</td>\n",
       "      <td>+33 18 13</td>\n",
       "      <td>17.236</td>\n",
       "      <td>0.889</td>\n",
       "      <td>1.362</td>\n",
       "      <td>-0.31</td>\n",
       "      <td>5627.0</td>\n",
       "      <td>NaN</td>\n",
       "      <td>Confirmed planets</td>\n",
       "    </tr>\n",
       "    <tr>\n",
       "      <th>2</th>\n",
       "      <td>KOI-1843.03</td>\n",
       "      <td>0</td>\n",
       "      <td>0.0014</td>\n",
       "      <td>0.054</td>\n",
       "      <td>0.176891</td>\n",
       "      <td>0.0048</td>\n",
       "      <td>NaN</td>\n",
       "      <td>NaN</td>\n",
       "      <td>NaN</td>\n",
       "      <td>NaN</td>\n",
       "      <td>...</td>\n",
       "      <td>13/07/15</td>\n",
       "      <td>19 00 03.14</td>\n",
       "      <td>+40 13 14.7</td>\n",
       "      <td>NaN</td>\n",
       "      <td>0.460</td>\n",
       "      <td>0.450</td>\n",
       "      <td>0.00</td>\n",
       "      <td>3584.0</td>\n",
       "      <td>NaN</td>\n",
       "      <td>Controversial</td>\n",
       "    </tr>\n",
       "    <tr>\n",
       "      <th>3</th>\n",
       "      <td>KOI-1843.01</td>\n",
       "      <td>0</td>\n",
       "      <td>NaN</td>\n",
       "      <td>0.114</td>\n",
       "      <td>4.194525</td>\n",
       "      <td>0.0390</td>\n",
       "      <td>NaN</td>\n",
       "      <td>NaN</td>\n",
       "      <td>NaN</td>\n",
       "      <td>NaN</td>\n",
       "      <td>...</td>\n",
       "      <td>NaN</td>\n",
       "      <td>19 00 03.14</td>\n",
       "      <td>+40 13 14.7</td>\n",
       "      <td>NaN</td>\n",
       "      <td>0.460</td>\n",
       "      <td>0.450</td>\n",
       "      <td>0.00</td>\n",
       "      <td>3584.0</td>\n",
       "      <td>NaN</td>\n",
       "      <td>Controversial</td>\n",
       "    </tr>\n",
       "    <tr>\n",
       "      <th>4</th>\n",
       "      <td>KOI-1843.02</td>\n",
       "      <td>0</td>\n",
       "      <td>NaN</td>\n",
       "      <td>0.071</td>\n",
       "      <td>6.356006</td>\n",
       "      <td>0.0520</td>\n",
       "      <td>NaN</td>\n",
       "      <td>NaN</td>\n",
       "      <td>NaN</td>\n",
       "      <td>NaN</td>\n",
       "      <td>...</td>\n",
       "      <td>NaN</td>\n",
       "      <td>19 00 03.14</td>\n",
       "      <td>+40 13 14.7</td>\n",
       "      <td>NaN</td>\n",
       "      <td>0.460</td>\n",
       "      <td>0.450</td>\n",
       "      <td>0.00</td>\n",
       "      <td>3584.0</td>\n",
       "      <td>NaN</td>\n",
       "      <td>Controversial</td>\n",
       "    </tr>\n",
       "  </tbody>\n",
       "</table>\n",
       "<p>5 rows × 25 columns</p>\n",
       "</div>"
      ],
      "text/plain": [
       "  PlanetIdentifier  TypeFlag  PlanetaryMassJpt  RadiusJpt  PeriodDays  \\\n",
       "0      HD 143761 b         0            1.0450        NaN   39.845800   \n",
       "1      HD 143761 c         0            0.0790        NaN  102.540000   \n",
       "2      KOI-1843.03         0            0.0014      0.054    0.176891   \n",
       "3      KOI-1843.01         0               NaN      0.114    4.194525   \n",
       "4      KOI-1843.02         0               NaN      0.071    6.356006   \n",
       "\n",
       "   SemiMajorAxisAU  Eccentricity  PeriastronDeg  LongitudeDeg  \\\n",
       "0           0.2196         0.037          270.6           NaN   \n",
       "1           0.4123         0.050          190.0           NaN   \n",
       "2           0.0048           NaN            NaN           NaN   \n",
       "3           0.0390           NaN            NaN           NaN   \n",
       "4           0.0520           NaN            NaN           NaN   \n",
       "\n",
       "   AscendingNodeDeg        ...          LastUpdated  RightAscension  \\\n",
       "0               NaN        ...             16/07/11        16 01 03   \n",
       "1               NaN        ...             16/07/11        16 01 03   \n",
       "2               NaN        ...             13/07/15     19 00 03.14   \n",
       "3               NaN        ...                  NaN     19 00 03.14   \n",
       "4               NaN        ...                  NaN     19 00 03.14   \n",
       "\n",
       "   Declination DistFromSunParsec  HostStarMassSlrMass HostStarRadiusSlrRad  \\\n",
       "0    +33 18 13            17.236                0.889                1.362   \n",
       "1    +33 18 13            17.236                0.889                1.362   \n",
       "2  +40 13 14.7               NaN                0.460                0.450   \n",
       "3  +40 13 14.7               NaN                0.460                0.450   \n",
       "4  +40 13 14.7               NaN                0.460                0.450   \n",
       "\n",
       "  HostStarMetallicity HostStarTempK  HostStarAgeGyr    ListsPlanetIsOn  \n",
       "0               -0.31        5627.0             NaN  Confirmed planets  \n",
       "1               -0.31        5627.0             NaN  Confirmed planets  \n",
       "2                0.00        3584.0             NaN      Controversial  \n",
       "3                0.00        3584.0             NaN      Controversial  \n",
       "4                0.00        3584.0             NaN      Controversial  \n",
       "\n",
       "[5 rows x 25 columns]"
      ]
     },
     "execution_count": 3,
     "metadata": {},
     "output_type": "execute_result"
    }
   ],
   "source": [
    "# Reading CSV\n",
    "data = pd.read_csv('oec.csv')\n",
    "# Show data head\n",
    "data.head()"
   ]
  },
  {
   "cell_type": "code",
   "execution_count": 4,
   "metadata": {},
   "outputs": [
    {
     "data": {
      "text/plain": [
       "{'maximum': 8500.0, 'minimum': 1.295}"
      ]
     },
     "execution_count": 4,
     "metadata": {},
     "output_type": "execute_result"
    }
   ],
   "source": [
    "# Find Min amd Max of DistFromSunParsec\n",
    "{ 'maximum': max(data[\"DistFromSunParsec\"]), 'minimum': min(data[\"DistFromSunParsec\"]) }"
   ]
  },
  {
   "cell_type": "code",
   "execution_count": 5,
   "metadata": {},
   "outputs": [],
   "source": [
    "# Convert RA to decimal degrees\n",
    "data['RA'] = [str(i) for i in data['RightAscension']]\n",
    "data['RA'] = [i.split(\" \") for i in data['RA']]\n",
    "data = data[[len(i) == 3 for i in data['RA']]]\n",
    "data['RA'] = [float(j[0]) + float(j[1])/60 + float(j[2])/360 for j in data['RA']]\n",
    "\n",
    "# Convert DEC to decimals degrees\n",
    "data['DEC'] = [str(i) for i in data['Declination']]\n",
    "data['DEC'] = [i.split(\" \") for i in data['DEC']]\n",
    "data['DEC'] = [float(j[0]) + float(j[1])/60 + float(j[2])/360 if float(j[0]) > 0 else float(float(j[0]) - float(j[1])/60 - float(j[2])/360) for j in data['DEC']]"
   ]
  },
  {
   "cell_type": "markdown",
   "metadata": {},
   "source": [
    "Now as measurements of * **RA** (Right Ascension)* and * **DEC** (Declination)* are measured **geocentrically** i.e. they are measured with respect to earth. So finding distance between earth and exo planet we need to convert spherical co-ordinates to cartisian coordiates then use distance formula to find distance. After solving quadratic equation we get distance (**r**) as:\n",
    "\n",
    "$$\n",
    "r = d \\cos{\\delta}\\cos{\\alpha} + \\sqrt(r_o^2 + d^2\\cos^2{\\delta} \\cos^2{\\alpha} - d^2)\n",
    "$$\n",
    "\n",
    "where $$ \\\\ r_o = \\text{helocentric (i.e. from sun) distance of exoplanent} \n",
    "       \\\\ d = \\textrm{distance of sun from earth}\n",
    "       \\\\ \\delta = \\textrm{Declination of exoplanet (DEC)}\n",
    "       \\\\ \\alpha = \\textrm{Right Ascension of exoplanet (RA)} $$"
   ]
  },
  {
   "cell_type": "code",
   "execution_count": 6,
   "metadata": {},
   "outputs": [
    {
     "data": {
      "text/plain": [
       "0       17.236001576919275\n",
       "1       17.236001576919275\n",
       "2                      nan\n",
       "3                      nan\n",
       "4                      nan\n",
       "5        650.0000035813794\n",
       "6        650.0000035813794\n",
       "7        650.0000035813794\n",
       "8        43.25000106308892\n",
       "9                      nan\n",
       "10       432.9999960024413\n",
       "11      142.99999876032842\n",
       "12       6500.000001775559\n",
       "13                     nan\n",
       "14                     nan\n",
       "15      199.99999955262612\n",
       "16      14.550000042420987\n",
       "17       626.0999982331421\n",
       "18       626.0999982331421\n",
       "19       77.81999946158899\n",
       "20       77.81999946158899\n",
       "21         63.689995933175\n",
       "22                     nan\n",
       "23       48.29999772294017\n",
       "24       48.29999772294017\n",
       "25                     nan\n",
       "26                     nan\n",
       "27                     nan\n",
       "28                     nan\n",
       "29                     nan\n",
       "               ...        \n",
       "3554                   nan\n",
       "3555                   nan\n",
       "3556                   nan\n",
       "3557     380.0000002100586\n",
       "3558                   nan\n",
       "3559                   nan\n",
       "3560                   nan\n",
       "3561                   nan\n",
       "3562      720.220000280934\n",
       "3563      720.220000280934\n",
       "3564     674.3899958561831\n",
       "3565     674.3899958561831\n",
       "3566    10.029999582024024\n",
       "3567                   nan\n",
       "3568                   nan\n",
       "3569                   nan\n",
       "3570                   nan\n",
       "3571     83.50000020490039\n",
       "3572                   nan\n",
       "3573    129.99999663180446\n",
       "3574    253.99999803054945\n",
       "3575                   nan\n",
       "3576    319.99999968283583\n",
       "3577    257.00000033337585\n",
       "3578                   nan\n",
       "3579    37.989998994715705\n",
       "3580    37.989998994715705\n",
       "3581      68.4999974054091\n",
       "3582      68.4999974054091\n",
       "3583                   nan\n",
       "Name: DistFromEarthParsec, Length: 3574, dtype: object"
      ]
     },
     "execution_count": 6,
     "metadata": {},
     "output_type": "execute_result"
    }
   ],
   "source": [
    "# adding distance of exoplanents from earth\n",
    "d = 4.84814e-6 # in parsec\n",
    "t = d*np.cos(data[\"DEC\"])*np.cos(data[\"RA\"])\n",
    "data[\"DistFromEarthParsec\"] = t + np.sqrt(np.square(data[\"DistFromSunParsec\"]) + np.square(t) - d**2)\n",
    "pd.Series(data[\"DistFromEarthParsec\"], dtype=\"str\")"
   ]
  },
  {
   "cell_type": "code",
   "execution_count": 7,
   "metadata": {},
   "outputs": [
    {
     "data": {
      "text/plain": [
       "2133"
      ]
     },
     "execution_count": 7,
     "metadata": {},
     "output_type": "execute_result"
    }
   ],
   "source": [
    "# Clean data\n",
    "data = data[pd.Series(data[\"DistFromEarthParsec\"], dtype=\"str\") != \"nan\"]\n",
    "len(data)"
   ]
  },
  {
   "cell_type": "code",
   "execution_count": 8,
   "metadata": {},
   "outputs": [],
   "source": [
    "# Sort by Distance from the earth\n",
    "data.sort_values(by=\"DistFromEarthParsec\", inplace=True)\n",
    "data = data.reset_index(drop=True)"
   ]
  },
  {
   "cell_type": "code",
   "execution_count": 9,
   "metadata": {},
   "outputs": [
    {
     "data": {
      "text/plain": [
       "[<matplotlib.lines.Line2D at 0x7fba5a835588>]"
      ]
     },
     "execution_count": 9,
     "metadata": {},
     "output_type": "execute_result"
    },
    {
     "data": {
      "image/png": "[encoded data removed]",
      "text/plain": [
       "<Figure size 720x360 with 1 Axes>"
      ]
     },
     "metadata": {},
     "output_type": "display_data"
    }
   ],
   "source": [
    "# Plot Distance from earth\n",
    "plt.figure(figsize=(10,5))\n",
    "#plt.xticks(np.arange(2133), data[\"PlanetIdentifier\"])\n",
    "plt.plot(np.array(data[\"DistFromEarthParsec\"]).T,'r--')"
   ]
  },
  {
   "cell_type": "code",
   "execution_count": 10,
   "metadata": {},
   "outputs": [
    {
     "data": {
      "text/plain": [
       "PlanetIdentifier                                       Proxima Centauri b\n",
       "TypeFlag                                                                2\n",
       "PlanetaryMassJpt                                                 0.004089\n",
       "RadiusJpt                                                             NaN\n",
       "PeriodDays                                                         11.186\n",
       "SemiMajorAxisAU                                                    0.0485\n",
       "Eccentricity                                                          NaN\n",
       "PeriastronDeg                                                         NaN\n",
       "LongitudeDeg                                                          110\n",
       "AscendingNodeDeg                                                      NaN\n",
       "InclinationDeg                                                        NaN\n",
       "SurfaceTempK                                                          234\n",
       "AgeGyr                                                                NaN\n",
       "DiscoveryMethod                                                        RV\n",
       "DiscoveryYear                                                        2016\n",
       "LastUpdated                                                      16/08/22\n",
       "RightAscension                                               14 39 36.204\n",
       "Declination                                                  -60 50 08.23\n",
       "DistFromSunParsec                                                   1.295\n",
       "HostStarMassSlrMass                                                  0.12\n",
       "HostStarRadiusSlrRad                                                0.141\n",
       "HostStarMetallicity                                                   NaN\n",
       "HostStarTempK                                                        3050\n",
       "HostStarAgeGyr                                                        NaN\n",
       "ListsPlanetIsOn         Confirmed planets, Planets in binary systems, ...\n",
       "RA                                                                14.7506\n",
       "DEC                                                              -60.8562\n",
       "DistFromEarthParsec                                                 1.295\n",
       "Name: 0, dtype: object"
      ]
     },
     "execution_count": 10,
     "metadata": {},
     "output_type": "execute_result"
    }
   ],
   "source": [
    "data.iloc[0]"
   ]
  },
  {
   "cell_type": "code",
   "execution_count": 11,
   "metadata": {},
   "outputs": [
    {
     "data": {
      "text/plain": [
       "Confirmed planets                                                                     1888\n",
       "Confirmed planets, Planets in binary systems, S-type                                   129\n",
       "Controversial                                                                           54\n",
       "Controversial, Planets in binary systems, S-type                                        20\n",
       "Confirmed planets, Planets in binary systems, P-type                                    16\n",
       "Confirmed planets, Planets in open clusters                                             13\n",
       "Controversial, Planets in binary systems, P-type                                         4\n",
       "Retracted planet candidate                                                               4\n",
       "Confirmed planets, Orphan planets                                                        2\n",
       "Kepler Objects of Interest                                                               1\n",
       "Planets in binary systems, S-type, Confirmed planets                                     1\n",
       "Confirmed planets, Planets in binary systems, P-type, Planets in globular clusters       1\n",
       "Name: ListsPlanetIsOn, dtype: int64"
      ]
     },
     "execution_count": 11,
     "metadata": {},
     "output_type": "execute_result"
    }
   ],
   "source": [
    "data[\"ListsPlanetIsOn\"].value_counts()"
   ]
  },
  {
   "cell_type": "code",
   "execution_count": 12,
   "metadata": {},
   "outputs": [
    {
     "data": {
      "text/html": [
       "<div>\n",
       "<style scoped>\n",
       "    .dataframe tbody tr th:only-of-type {\n",
       "        vertical-align: middle;\n",
       "    }\n",
       "\n",
       "    .dataframe tbody tr th {\n",
       "        vertical-align: top;\n",
       "    }\n",
       "\n",
       "    .dataframe thead th {\n",
       "        text-align: right;\n",
       "    }\n",
       "</style>\n",
       "<table border=\"1\" class=\"dataframe\">\n",
       "  <thead>\n",
       "    <tr style=\"text-align: right;\">\n",
       "      <th></th>\n",
       "      <th>PlanetIdentifier</th>\n",
       "      <th>TypeFlag</th>\n",
       "      <th>PlanetaryMassJpt</th>\n",
       "      <th>RadiusJpt</th>\n",
       "      <th>PeriodDays</th>\n",
       "      <th>SemiMajorAxisAU</th>\n",
       "      <th>Eccentricity</th>\n",
       "      <th>PeriastronDeg</th>\n",
       "      <th>LongitudeDeg</th>\n",
       "      <th>AscendingNodeDeg</th>\n",
       "      <th>...</th>\n",
       "      <th>DistFromSunParsec</th>\n",
       "      <th>HostStarMassSlrMass</th>\n",
       "      <th>HostStarRadiusSlrRad</th>\n",
       "      <th>HostStarMetallicity</th>\n",
       "      <th>HostStarTempK</th>\n",
       "      <th>HostStarAgeGyr</th>\n",
       "      <th>ListsPlanetIsOn</th>\n",
       "      <th>RA</th>\n",
       "      <th>DEC</th>\n",
       "      <th>DistFromEarthParsec</th>\n",
       "    </tr>\n",
       "  </thead>\n",
       "  <tbody>\n",
       "    <tr>\n",
       "      <th>207</th>\n",
       "      <td>PSO J318.5-22</td>\n",
       "      <td>3</td>\n",
       "      <td>6.5</td>\n",
       "      <td>1.53</td>\n",
       "      <td>NaN</td>\n",
       "      <td>NaN</td>\n",
       "      <td>NaN</td>\n",
       "      <td>NaN</td>\n",
       "      <td>NaN</td>\n",
       "      <td>NaN</td>\n",
       "      <td>...</td>\n",
       "      <td>24.6</td>\n",
       "      <td>NaN</td>\n",
       "      <td>NaN</td>\n",
       "      <td>NaN</td>\n",
       "      <td>NaN</td>\n",
       "      <td>NaN</td>\n",
       "      <td>Confirmed planets, Orphan planets</td>\n",
       "      <td>21.255556</td>\n",
       "      <td>22.950000</td>\n",
       "      <td>24.600002</td>\n",
       "    </tr>\n",
       "    <tr>\n",
       "      <th>372</th>\n",
       "      <td>CFBDSIR2149</td>\n",
       "      <td>3</td>\n",
       "      <td>5.5</td>\n",
       "      <td>NaN</td>\n",
       "      <td>NaN</td>\n",
       "      <td>NaN</td>\n",
       "      <td>NaN</td>\n",
       "      <td>NaN</td>\n",
       "      <td>NaN</td>\n",
       "      <td>NaN</td>\n",
       "      <td>...</td>\n",
       "      <td>40.0</td>\n",
       "      <td>NaN</td>\n",
       "      <td>NaN</td>\n",
       "      <td>NaN</td>\n",
       "      <td>NaN</td>\n",
       "      <td>NaN</td>\n",
       "      <td>Confirmed planets, Orphan planets</td>\n",
       "      <td>21.947222</td>\n",
       "      <td>-4.072222</td>\n",
       "      <td>40.000003</td>\n",
       "    </tr>\n",
       "  </tbody>\n",
       "</table>\n",
       "<p>2 rows × 28 columns</p>\n",
       "</div>"
      ],
      "text/plain": [
       "    PlanetIdentifier  TypeFlag  PlanetaryMassJpt  RadiusJpt  PeriodDays  \\\n",
       "207    PSO J318.5-22         3               6.5       1.53         NaN   \n",
       "372      CFBDSIR2149         3               5.5        NaN         NaN   \n",
       "\n",
       "     SemiMajorAxisAU  Eccentricity  PeriastronDeg  LongitudeDeg  \\\n",
       "207              NaN           NaN            NaN           NaN   \n",
       "372              NaN           NaN            NaN           NaN   \n",
       "\n",
       "     AscendingNodeDeg         ...           DistFromSunParsec  \\\n",
       "207               NaN         ...                        24.6   \n",
       "372               NaN         ...                        40.0   \n",
       "\n",
       "     HostStarMassSlrMass  HostStarRadiusSlrRad HostStarMetallicity  \\\n",
       "207                  NaN                   NaN                 NaN   \n",
       "372                  NaN                   NaN                 NaN   \n",
       "\n",
       "     HostStarTempK HostStarAgeGyr                    ListsPlanetIsOn  \\\n",
       "207            NaN            NaN  Confirmed planets, Orphan planets   \n",
       "372            NaN            NaN  Confirmed planets, Orphan planets   \n",
       "\n",
       "            RA        DEC  DistFromEarthParsec  \n",
       "207  21.255556  22.950000            24.600002  \n",
       "372  21.947222  -4.072222            40.000003  \n",
       "\n",
       "[2 rows x 28 columns]"
      ]
     },
     "execution_count": 12,
     "metadata": {},
     "output_type": "execute_result"
    }
   ],
   "source": [
    "data[data[\"ListsPlanetIsOn\"] == \"Confirmed planets, Orphan planets\"]"
   ]
  },
  {
   "cell_type": "code",
   "execution_count": 13,
   "metadata": {},
   "outputs": [],
   "source": [
    "# export dataframe as csv\n",
    "data.to_csv(\"data.csv\")"
   ]
  }
 ],
 "metadata": {
  "kernelspec": {
   "display_name": "Python 3",
   "language": "python",
   "name": "python3"
  },
  "language_info": {
   "codemirror_mode": {
    "name": "ipython",
    "version": 3
   },
   "file_extension": ".py",
   "mimetype": "text/x-python",
   "name": "python",
   "nbconvert_exporter": "python",
   "pygments_lexer": "ipython3",
   "version": "3.6.5"
  }
 },
 "nbformat": 4,
 "nbformat_minor": 2
}
